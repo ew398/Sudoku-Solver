{
  "nbformat": 4,
  "nbformat_minor": 0,
  "metadata": {
    "colab": {
      "name": "Sudoku Solver.ipynb",
      "provenance": [],
      "collapsed_sections": []
    },
    "kernelspec": {
      "name": "python3",
      "display_name": "Python 3"
    }
  },
  "cells": [
    {
      "cell_type": "markdown",
      "metadata": {
        "id": "9qiZCYv4bXvQ",
        "colab_type": "text"
      },
      "source": [
        "**Sudoku Convex Optimization Solver**  \n",
        "\n",
        "Before we get started, the code will assume familiarity with the following:  \n",
        "1) The complete set of rules in [Sudoku](https://en.wikipedia.org/wiki/Sudoku)  \n",
        "2) General formatting and modeling approach for [Linear Programming](https://en.wikipedia.org/wiki/Linear_programming)\n",
        "\n",
        "\n",
        "\n",
        "\n"
      ]
    },
    {
      "cell_type": "markdown",
      "metadata": {
        "id": "dkpf_rwmel6F",
        "colab_type": "text"
      },
      "source": [
        "Below, we'll install PuLP, an open source linear programming solver as a matrix framework for stating our problem"
      ]
    },
    {
      "cell_type": "code",
      "metadata": {
        "id": "7WYEvUpafJ_J",
        "colab_type": "code",
        "colab": {
          "base_uri": "https://localhost:8080/",
          "height": 302
        },
        "outputId": "149a6abf-a93f-43a8-c28d-d8e7117d5ea3"
      },
      "source": [
        "!pip install pulp"
      ],
      "execution_count": 22,
      "outputs": [
        {
          "output_type": "stream",
          "text": [
            "Collecting pulp\n",
            "\u001b[?25l  Downloading https://files.pythonhosted.org/packages/16/c8/cdb6e4c47c775e837f6f1a26162963440b7f9d47d01dcb92ce712d5eecb9/PuLP-2.2-py3-none-any.whl (40.6MB)\n",
            "\u001b[K     |████████████████████████████████| 40.6MB 100kB/s \n",
            "\u001b[?25hCollecting amply>=0.1.2\n",
            "  Downloading https://files.pythonhosted.org/packages/7f/11/33cb09557ac838d9488779b79e05a2a3c1f3ce9747cd242ba68332736778/amply-0.1.2.tar.gz\n",
            "  Installing build dependencies ... \u001b[?25l\u001b[?25hdone\n",
            "  Getting requirements to build wheel ... \u001b[?25l\u001b[?25hdone\n",
            "    Preparing wheel metadata ... \u001b[?25l\u001b[?25hdone\n",
            "Requirement already satisfied: docutils>=0.3 in /usr/local/lib/python3.6/dist-packages (from amply>=0.1.2->pulp) (0.15.2)\n",
            "Requirement already satisfied: pyparsing in /usr/local/lib/python3.6/dist-packages (from amply>=0.1.2->pulp) (2.4.7)\n",
            "Building wheels for collected packages: amply\n",
            "  Building wheel for amply (PEP 517) ... \u001b[?25l\u001b[?25hdone\n",
            "  Created wheel for amply: filename=amply-0.1.2-cp36-none-any.whl size=16572 sha256=802e874b4d28af671dd4995a7b3b5ea3e7ecc58506df0abafa41316760bd65dc\n",
            "  Stored in directory: /root/.cache/pip/wheels/84/18/f7/e5c3ed13ed5bb721763f77d4a924331d59ef115ce61c9d26eb\n",
            "Successfully built amply\n",
            "Installing collected packages: amply, pulp\n",
            "Successfully installed amply-0.1.2 pulp-2.2\n"
          ],
          "name": "stdout"
        }
      ]
    },
    {
      "cell_type": "markdown",
      "metadata": {
        "id": "b081Ig7EfR1a",
        "colab_type": "text"
      },
      "source": [
        "We'll install necessary packages, using a combination of NumPy and Pandas to display the input puzzle into a dataframe"
      ]
    },
    {
      "cell_type": "code",
      "metadata": {
        "id": "0-raV_cefcpc",
        "colab_type": "code",
        "colab": {}
      },
      "source": [
        "import pulp\n",
        "import numpy as np\n",
        "import pandas as pd"
      ],
      "execution_count": 23,
      "outputs": []
    },
    {
      "cell_type": "markdown",
      "metadata": {
        "id": "lS6ZT-YKrKoS",
        "colab_type": "text"
      },
      "source": [
        "Now we'll pass the sudoku puzzle as a 2D array.    \n",
        "For values we don't know, we'll populate the corresponding cell with a 0.    \n",
        "For values we know, we'll populate the corresponding cell with the value.  \n",
        "Then we'll convert it to a df with labels for our row, columns to check that the initial sudoku is correct."
      ]
    },
    {
      "cell_type": "code",
      "metadata": {
        "id": "MfTS_DHkrPgA",
        "colab_type": "code",
        "colab": {
          "base_uri": "https://localhost:8080/",
          "height": 343
        },
        "outputId": "86391aaf-3d32-405c-a2bb-4a7c0ea4eed6"
      },
      "source": [
        "puzzle = [[0, 0, 5, 0, 2, 0, 0, 0, 0], \\\n",
        "          [3, 9, 0, 1, 8, 6, 0, 0, 0], \\\n",
        "          [0, 0, 8, 4, 3, 0, 1, 0, 0], \\\n",
        "          [1, 3, 4, 0, 0, 0, 0, 0, 7], \\\n",
        "          [0, 2, 0, 6, 7, 4, 0, 3, 0], \\\n",
        "          [6, 0, 0, 0, 0, 0, 4, 9, 2], \\\n",
        "          [0, 0, 6, 0, 4, 2, 9, 0, 0], \\\n",
        "          [0, 0, 0, 9, 5, 1, 0, 7, 8], \\\n",
        "          [0, 0, 0, 0, 6, 0, 2, 0, 0]] \n",
        "\n",
        "df = pd.DataFrame(puzzle, index = np.arange(9) + 1, columns = np.arange(9) + 1)\n",
        "df.index.name, df.columns.name = 'Row #', 'Column #'\n",
        "df"
      ],
      "execution_count": 24,
      "outputs": [
        {
          "output_type": "execute_result",
          "data": {
            "text/html": [
              "<div>\n",
              "<style scoped>\n",
              "    .dataframe tbody tr th:only-of-type {\n",
              "        vertical-align: middle;\n",
              "    }\n",
              "\n",
              "    .dataframe tbody tr th {\n",
              "        vertical-align: top;\n",
              "    }\n",
              "\n",
              "    .dataframe thead th {\n",
              "        text-align: right;\n",
              "    }\n",
              "</style>\n",
              "<table border=\"1\" class=\"dataframe\">\n",
              "  <thead>\n",
              "    <tr style=\"text-align: right;\">\n",
              "      <th>Column #</th>\n",
              "      <th>1</th>\n",
              "      <th>2</th>\n",
              "      <th>3</th>\n",
              "      <th>4</th>\n",
              "      <th>5</th>\n",
              "      <th>6</th>\n",
              "      <th>7</th>\n",
              "      <th>8</th>\n",
              "      <th>9</th>\n",
              "    </tr>\n",
              "    <tr>\n",
              "      <th>Row #</th>\n",
              "      <th></th>\n",
              "      <th></th>\n",
              "      <th></th>\n",
              "      <th></th>\n",
              "      <th></th>\n",
              "      <th></th>\n",
              "      <th></th>\n",
              "      <th></th>\n",
              "      <th></th>\n",
              "    </tr>\n",
              "  </thead>\n",
              "  <tbody>\n",
              "    <tr>\n",
              "      <th>1</th>\n",
              "      <td>0</td>\n",
              "      <td>0</td>\n",
              "      <td>5</td>\n",
              "      <td>0</td>\n",
              "      <td>2</td>\n",
              "      <td>0</td>\n",
              "      <td>0</td>\n",
              "      <td>0</td>\n",
              "      <td>0</td>\n",
              "    </tr>\n",
              "    <tr>\n",
              "      <th>2</th>\n",
              "      <td>3</td>\n",
              "      <td>9</td>\n",
              "      <td>0</td>\n",
              "      <td>1</td>\n",
              "      <td>8</td>\n",
              "      <td>6</td>\n",
              "      <td>0</td>\n",
              "      <td>0</td>\n",
              "      <td>0</td>\n",
              "    </tr>\n",
              "    <tr>\n",
              "      <th>3</th>\n",
              "      <td>0</td>\n",
              "      <td>0</td>\n",
              "      <td>8</td>\n",
              "      <td>4</td>\n",
              "      <td>3</td>\n",
              "      <td>0</td>\n",
              "      <td>1</td>\n",
              "      <td>0</td>\n",
              "      <td>0</td>\n",
              "    </tr>\n",
              "    <tr>\n",
              "      <th>4</th>\n",
              "      <td>1</td>\n",
              "      <td>3</td>\n",
              "      <td>4</td>\n",
              "      <td>0</td>\n",
              "      <td>0</td>\n",
              "      <td>0</td>\n",
              "      <td>0</td>\n",
              "      <td>0</td>\n",
              "      <td>7</td>\n",
              "    </tr>\n",
              "    <tr>\n",
              "      <th>5</th>\n",
              "      <td>0</td>\n",
              "      <td>2</td>\n",
              "      <td>0</td>\n",
              "      <td>6</td>\n",
              "      <td>7</td>\n",
              "      <td>4</td>\n",
              "      <td>0</td>\n",
              "      <td>3</td>\n",
              "      <td>0</td>\n",
              "    </tr>\n",
              "    <tr>\n",
              "      <th>6</th>\n",
              "      <td>6</td>\n",
              "      <td>0</td>\n",
              "      <td>0</td>\n",
              "      <td>0</td>\n",
              "      <td>0</td>\n",
              "      <td>0</td>\n",
              "      <td>4</td>\n",
              "      <td>9</td>\n",
              "      <td>2</td>\n",
              "    </tr>\n",
              "    <tr>\n",
              "      <th>7</th>\n",
              "      <td>0</td>\n",
              "      <td>0</td>\n",
              "      <td>6</td>\n",
              "      <td>0</td>\n",
              "      <td>4</td>\n",
              "      <td>2</td>\n",
              "      <td>9</td>\n",
              "      <td>0</td>\n",
              "      <td>0</td>\n",
              "    </tr>\n",
              "    <tr>\n",
              "      <th>8</th>\n",
              "      <td>0</td>\n",
              "      <td>0</td>\n",
              "      <td>0</td>\n",
              "      <td>9</td>\n",
              "      <td>5</td>\n",
              "      <td>1</td>\n",
              "      <td>0</td>\n",
              "      <td>7</td>\n",
              "      <td>8</td>\n",
              "    </tr>\n",
              "    <tr>\n",
              "      <th>9</th>\n",
              "      <td>0</td>\n",
              "      <td>0</td>\n",
              "      <td>0</td>\n",
              "      <td>0</td>\n",
              "      <td>6</td>\n",
              "      <td>0</td>\n",
              "      <td>2</td>\n",
              "      <td>0</td>\n",
              "      <td>0</td>\n",
              "    </tr>\n",
              "  </tbody>\n",
              "</table>\n",
              "</div>"
            ],
            "text/plain": [
              "Column #  1  2  3  4  5  6  7  8  9\n",
              "Row #                              \n",
              "1         0  0  5  0  2  0  0  0  0\n",
              "2         3  9  0  1  8  6  0  0  0\n",
              "3         0  0  8  4  3  0  1  0  0\n",
              "4         1  3  4  0  0  0  0  0  7\n",
              "5         0  2  0  6  7  4  0  3  0\n",
              "6         6  0  0  0  0  0  4  9  2\n",
              "7         0  0  6  0  4  2  9  0  0\n",
              "8         0  0  0  9  5  1  0  7  8\n",
              "9         0  0  0  0  6  0  2  0  0"
            ]
          },
          "metadata": {
            "tags": []
          },
          "execution_count": 24
        }
      ]
    },
    {
      "cell_type": "markdown",
      "metadata": {
        "id": "rHleGtTzfjMy",
        "colab_type": "text"
      },
      "source": [
        "Now we'll start stating the rules of sudoku as a linear program.\n",
        "\n",
        "Typically, creating a Linear Program involves a 4 step approach:  \n",
        "1) Stating whether we are creating a minimization or maximization problem  \n",
        "2) Defining variables and their range of possible values  \n",
        "3) Writing our problem constraints (as a linear combination of our variables)  \n",
        "4) Describe the minimization/maximization we are aiming for (as a linear combination of our variables)"
      ]
    },
    {
      "cell_type": "markdown",
      "metadata": {
        "id": "8ETqc9xQhmma",
        "colab_type": "text"
      },
      "source": [
        "**First Step (Minimization or Maximization):**  \n",
        "In the scope of this problem, it won't matter whether we chose a minimization or maximization objective.  \n",
        "Here, we are simply looking for the inputs that will solve all our constraints.  \n",
        "Below, we'll instantiate the linear program and arbitrarily define it as a maximization problem"
      ]
    },
    {
      "cell_type": "code",
      "metadata": {
        "id": "KjWar0SciXqd",
        "colab_type": "code",
        "colab": {}
      },
      "source": [
        "problem = pulp.LpProblem('Problem', pulp.LpMaximize) #defining a maximization linear program with name 'Problem'"
      ],
      "execution_count": 25,
      "outputs": []
    },
    {
      "cell_type": "markdown",
      "metadata": {
        "id": "OehKU5rsitJz",
        "colab_type": "text"
      },
      "source": [
        "**Second Step (Variable Definition):**  \n",
        "We'll define a 3D array of binary variables, $X_{ijk}$, to tell whether a number/digit occurs within a specified row and column  \n",
        "There's some math below needed to model our constraints, so we'll use some shorthand:  \n",
        "- $i$ will indicate digits 1 through 9  \n",
        "- $j$ will indicate rows 1 through 9\n",
        "- $k$ will indicate columns 1 through 9\n",
        "  \n",
        "So $X_{321}$ will indicate whether the value 3 occurs in row 2, column 1\n",
        "\n",
        "\n"
      ]
    },
    {
      "cell_type": "code",
      "metadata": {
        "id": "riiaMHjUka3o",
        "colab_type": "code",
        "colab": {}
      },
      "source": [
        "nums = range(1, 10) #range for the loops in list comprehension below\n",
        "X = pulp.LpVariable.dicts('X', [(digit, row, col) for digit in nums for row in nums for col in nums], cat = 'Binary') #creating 3D array of binary variables as a dictionary"
      ],
      "execution_count": 26,
      "outputs": []
    },
    {
      "cell_type": "markdown",
      "metadata": {
        "id": "DnYf-fVmI7-o",
        "colab_type": "text"
      },
      "source": [
        "**Third Step (Constraint Specification):**\n",
        "We'll need satisfy each of sudoku's rules with a set of constraints:  \n",
        "I. Ensure that each row, column combination has exactly one value/digit  \n",
        "II. Ensure that each value/digit occurs in a row exactly once  \n",
        "III. Ensure that each value/digit occurs in a column exactly once\n",
        "IV. Ensure that each value/digit occurs in predefined 3x3 squares exactly once  \n",
        "V. Ensure that hints provided in the original puzzle are coded as constraints  \n",
        "  \n",
        "The following lines show how these constraints are written linearly and executed"
      ]
    },
    {
      "cell_type": "markdown",
      "metadata": {
        "id": "JQR3OkZ2lys4",
        "colab_type": "text"
      },
      "source": [
        "**Constraint I:**  \n",
        "We need to ensure that each cell (row j, column k) has exactly one value, i, from 1 through 9. Linearly, this can be written as \n",
        "\n"
      ]
    },
    {
      "cell_type": "code",
      "metadata": {
        "id": "UXEhAsEgQwAl",
        "colab_type": "code",
        "colab": {
          "base_uri": "https://localhost:8080/",
          "height": 59
        },
        "outputId": "e073468b-dac7-4011-cee1-e033f2135b72"
      },
      "source": [
        "%%latex\n",
        "\\forall j, \\forall k: \\sum\\limits_{i = 1}^9 {X_{ijk}} = 1"
      ],
      "execution_count": 27,
      "outputs": [
        {
          "output_type": "display_data",
          "data": {
            "text/latex": "\\forall j, \\forall k: \\sum\\limits_{i = 1}^9 {X_{ijk}} = 1",
            "text/plain": [
              "<IPython.core.display.Latex object>"
            ]
          },
          "metadata": {
            "tags": []
          }
        }
      ]
    },
    {
      "cell_type": "code",
      "metadata": {
        "id": "_xYUvhJSmM3V",
        "colab_type": "code",
        "colab": {}
      },
      "source": [
        "for row in nums:\n",
        "  for col in nums:\n",
        "    problem += (pulp.lpSum([X[(digit, row, col)] for digit in nums]) == 1)"
      ],
      "execution_count": 28,
      "outputs": []
    },
    {
      "cell_type": "markdown",
      "metadata": {
        "id": "uSxD5reLmS-f",
        "colab_type": "text"
      },
      "source": [
        "**Constraint II:**  \n",
        "We need to ensure that each cell in a row j has exactly one value i from 1 through 9. Linearly, this can be written as "
      ]
    },
    {
      "cell_type": "code",
      "metadata": {
        "id": "EBrfgLDqWHw9",
        "colab_type": "code",
        "colab": {
          "base_uri": "https://localhost:8080/",
          "height": 62
        },
        "outputId": "df42d936-2b3f-4c2c-f0f0-0347df97d92a"
      },
      "source": [
        "%%latex\n",
        "\\forall i, \\forall k: \\sum\\limits_{j = 1}^9 {X_{ijk}} = 1"
      ],
      "execution_count": 29,
      "outputs": [
        {
          "output_type": "display_data",
          "data": {
            "text/latex": "\\forall i, \\forall k: \\sum\\limits_{j = 1}^9 {X_{ijk}} = 1",
            "text/plain": [
              "<IPython.core.display.Latex object>"
            ]
          },
          "metadata": {
            "tags": []
          }
        }
      ]
    },
    {
      "cell_type": "code",
      "metadata": {
        "id": "JRfg8BMWmxsH",
        "colab_type": "code",
        "colab": {}
      },
      "source": [
        "for digit in nums:\n",
        "  for col in nums:\n",
        "    problem += (pulp.lpSum([X[(digit, row, col)] for row in nums]) == 1)"
      ],
      "execution_count": 30,
      "outputs": []
    },
    {
      "cell_type": "markdown",
      "metadata": {
        "id": "6TG59HTLmiZw",
        "colab_type": "text"
      },
      "source": [
        "**Constraint III:**  \n",
        "We need to ensure that each cell in a column k has exactly one value i from 1 through 9. Linearly, this can be written as "
      ]
    },
    {
      "cell_type": "code",
      "metadata": {
        "id": "87Upa4xyaBCT",
        "colab_type": "code",
        "colab": {
          "base_uri": "https://localhost:8080/",
          "height": 59
        },
        "outputId": "eec51871-12dc-4c75-b319-f4274ca58be7"
      },
      "source": [
        "%%latex\n",
        "\\forall i, \\forall j: \\sum\\limits_{k = 1}^9 {X_{ijk}} = 1"
      ],
      "execution_count": 31,
      "outputs": [
        {
          "output_type": "display_data",
          "data": {
            "text/latex": "\\forall i, \\forall j: \\sum\\limits_{k = 1}^9 {X_{ijk}} = 1",
            "text/plain": [
              "<IPython.core.display.Latex object>"
            ]
          },
          "metadata": {
            "tags": []
          }
        }
      ]
    },
    {
      "cell_type": "code",
      "metadata": {
        "id": "vjZ5eUlzmyL6",
        "colab_type": "code",
        "colab": {}
      },
      "source": [
        "for digit in nums:\n",
        "  for row in nums:\n",
        "      problem += (pulp.lpSum([X[(digit, row, col)] for col in nums]) == 1)"
      ],
      "execution_count": 32,
      "outputs": []
    },
    {
      "cell_type": "markdown",
      "metadata": {
        "id": "BIFkDRWynP0v",
        "colab_type": "text"
      },
      "source": [
        "**Constraint IV:**  \n",
        "We need to ensure that each cell in a 3x3 block has exactly one value i from 1 thorugh 9. Linearly, this can be written as"
      ]
    },
    {
      "cell_type": "code",
      "metadata": {
        "id": "9d105MBTaMno",
        "colab_type": "code",
        "colab": {
          "base_uri": "https://localhost:8080/",
          "height": 51
        },
        "outputId": "6c8f61e2-f172-4fe1-f517-4243892655fd"
      },
      "source": [
        "%%latex \n",
        "\\forall J, K \\in ((1, 2, 3), (4, 5, 6), (7, 8, 9)): \\sum\\limits_{j \\in J} \\sum\\limits_{k \\in K} {X_{ijk}} = 1"
      ],
      "execution_count": 33,
      "outputs": [
        {
          "output_type": "display_data",
          "data": {
            "text/latex": "\\forall J, K \\in ((1, 2, 3), (4, 5, 6), (7, 8, 9)): \\sum\\limits_{j \\in J} \\sum\\limits_{k \\in K} {X_{ijk}} = 1",
            "text/plain": [
              "<IPython.core.display.Latex object>"
            ]
          },
          "metadata": {
            "tags": []
          }
        }
      ]
    },
    {
      "cell_type": "code",
      "metadata": {
        "id": "veVYmVeQpZb7",
        "colab_type": "code",
        "colab": {}
      },
      "source": [
        "nums2 = [range(1, 4), range(4, 7), range(7, 10)]\n",
        "for digit in nums:\n",
        "  for row3 in nums2:\n",
        "    for col3 in nums2:\n",
        "      problem += (pulp.lpSum([X[(digit, row, col)] for row in row3 for col in col3]) == 1)"
      ],
      "execution_count": 34,
      "outputs": []
    },
    {
      "cell_type": "markdown",
      "metadata": {
        "id": "ZuxEdMePn5al",
        "colab_type": "text"
      },
      "source": [
        "**Constraint V:**  \n",
        "In the original puzzle...  \n",
        "For each digit $i$ written in a row $j$, column $k$,  \n",
        "$X_{ijk} = 1$"
      ]
    },
    {
      "cell_type": "code",
      "metadata": {
        "id": "PL79i98HqGYO",
        "colab_type": "code",
        "colab": {}
      },
      "source": [
        "for row in range(9):\n",
        "  for col in range(9):\n",
        "    if puzzle[row][col] != 0:\n",
        "      problem += (X[(puzzle[row][col], row + 1, col + 1)] == 1)"
      ],
      "execution_count": 35,
      "outputs": []
    },
    {
      "cell_type": "markdown",
      "metadata": {
        "id": "fEVQ6kDTorVg",
        "colab_type": "text"
      },
      "source": [
        "**Fourth Step: Objective Function**  \n",
        "Typically, the objective function is written as an expression in the form of a linear expression.  \n",
        "But in this instance, the focus is on finding parameters that satisfy all of our linear constraints.  \n",
        "So we can simply state a constant, like $0$, as our objective function.  "
      ]
    },
    {
      "cell_type": "code",
      "metadata": {
        "id": "po-XU66WsYD-",
        "colab_type": "code",
        "colab": {}
      },
      "source": [
        "problem += 0"
      ],
      "execution_count": 36,
      "outputs": []
    },
    {
      "cell_type": "markdown",
      "metadata": {
        "id": "umLcHyqTJaXH",
        "colab_type": "text"
      },
      "source": [
        "**Solving and Displaying the Output**  \n",
        "Before solving the input puzzle, we should note that there are several types of inputs:\n",
        "- Type 1: an invalid puzzle is entered. In those scenarios, we'll just return 0\n",
        "- Type 2: a puzzle with multiple solutions is entered. In this scenario, we'll return the first viable solution that the solver displays\n",
        "- Type 3: a puzzle with exactly one solution. Here, we'll return the optimal solution"
      ]
    },
    {
      "cell_type": "code",
      "metadata": {
        "id": "XuAJHJq4ntZr",
        "colab_type": "code",
        "colab": {
          "base_uri": "https://localhost:8080/",
          "height": 168
        },
        "outputId": "22aa1347-7dcc-4575-bf1d-0051046440de"
      },
      "source": [
        "problem.solve()\n",
        "if problem.solve() == 1:\n",
        "  sudoku = [digit for row in nums for col in nums for digit in nums  if X[(digit, row, col)].varValue == 1] #list comprehension to store the solution as a 1D array\n",
        "  output = [sudoku[9 * index: 9 * (index + 1)] for index in range(9)] #convert 1D array to 2D array\n",
        "else:\n",
        "  output = 0\n",
        "output"
      ],
      "execution_count": 37,
      "outputs": [
        {
          "output_type": "execute_result",
          "data": {
            "text/plain": [
              "[[4, 1, 5, 7, 2, 9, 3, 8, 6],\n",
              " [3, 9, 2, 1, 8, 6, 7, 5, 4],\n",
              " [7, 6, 8, 4, 3, 5, 1, 2, 9],\n",
              " [1, 3, 4, 2, 9, 8, 5, 6, 7],\n",
              " [5, 2, 9, 6, 7, 4, 8, 3, 1],\n",
              " [6, 8, 7, 5, 1, 3, 4, 9, 2],\n",
              " [8, 7, 6, 3, 4, 2, 9, 1, 5],\n",
              " [2, 4, 3, 9, 5, 1, 6, 7, 8],\n",
              " [9, 5, 1, 8, 6, 7, 2, 4, 3]]"
            ]
          },
          "metadata": {
            "tags": []
          },
          "execution_count": 37
        }
      ]
    },
    {
      "cell_type": "markdown",
      "metadata": {
        "id": "XXuUwSy8cD6Y",
        "colab_type": "text"
      },
      "source": [
        "**Full Optimization Equation**\n",
        "Putting together all the objective functions and constraints, the linear program looks like the following:"
      ]
    },
    {
      "cell_type": "code",
      "metadata": {
        "id": "LLhJgBf3cBjM",
        "colab_type": "code",
        "colab": {
          "base_uri": "https://localhost:8080/",
          "height": 247
        },
        "outputId": "882b1063-856c-4d23-c0fb-8016d7982326"
      },
      "source": [
        "%%latex\n",
        "\\max \\sum\\limits_{i=1}^{9} \\sum\\limits_{j=1}^{9} \\sum\\limits_{k=1}^{9} 0 \\cdot X_{ijk}  \\\\\n",
        "s.t. \\forall j, \\forall k: \\sum\\limits_{i = 1}^9 {X_{ijk}} = 1 \\\\\n",
        "\\forall i, \\forall k: \\sum\\limits_{j = 1}^9 {X_{ijk}} = 1 \\\\\n",
        "\\forall i, \\forall j: \\sum\\limits_{k = 1}^9 {X_{ijk}} = 1 \\\\\n",
        "\\forall J, K \\in ((1, 2, 3), (4, 5, 6), (7, 8, 9)): \\sum\\limits_{j \\in J} \\sum\\limits_{k \\in K} {X_{ijk}} = 1 \\\\\n",
        "\\exists X_{ijk} \\in (0, 1) \\forall i, j, k \\in (1, 2, 3, ..., 9)^3"
      ],
      "execution_count": 52,
      "outputs": [
        {
          "output_type": "display_data",
          "data": {
            "text/latex": "\\max \\sum\\limits_{i=1}^{9} \\sum\\limits_{j=1}^{9} \\sum\\limits_{k=1}^{9} 0 \\cdot X_{ijk}  \\\\\ns.t. \\forall j, \\forall k: \\sum\\limits_{i = 1}^9 {X_{ijk}} = 1 \\\\\n\\forall i, \\forall k: \\sum\\limits_{j = 1}^9 {X_{ijk}} = 1 \\\\\n\\forall i, \\forall j: \\sum\\limits_{k = 1}^9 {X_{ijk}} = 1 \\\\\n\\forall J, K \\in ((1, 2, 3), (4, 5, 6), (7, 8, 9)): \\sum\\limits_{j \\in J} \\sum\\limits_{k \\in K} {X_{ijk}} = 1 \\\\\n\\exists X_{ijk} \\in (0, 1) \\forall i, j, k \\in (1, 2, 3, ..., 9)^3",
            "text/plain": [
              "<IPython.core.display.Latex object>"
            ]
          },
          "metadata": {
            "tags": []
          }
        }
      ]
    },
    {
      "cell_type": "markdown",
      "metadata": {
        "id": "6autxiD4wLwK",
        "colab_type": "text"
      },
      "source": [
        "**General Function**  \n",
        "Now that the solve process is clear, we can just create a method to solve puzzles and check test cases"
      ]
    },
    {
      "cell_type": "code",
      "metadata": {
        "id": "LZqM3QuevVNd",
        "colab_type": "code",
        "colab": {}
      },
      "source": [
        "def SudokuSolver(puzzle):\n",
        "\n",
        "  # Recurring ranges\n",
        "  nums = range(1, 10)\n",
        "  nums2 = [range(1, 4), range(4, 7), range(7, 10)]\n",
        "\n",
        "  # Creating Objective Function\n",
        "  problem = pulp.LpProblem('Problem', pulp.LpMaximize) #defining a maximization linear program with name 'Problem'\n",
        "  problem += 0\n",
        "\n",
        "  # Declaring Variables\n",
        "  X = pulp.LpVariable.dicts('X', [(digit, row, col) for digit in nums for row in nums for col in nums], cat = 'Binary') #creating 3D array of binary variables as a dictionary\n",
        "  \n",
        "  # Constraint 1\n",
        "  for row in nums:\n",
        "    for col in nums:\n",
        "      problem += (pulp.lpSum([X[(digit, row, col)] for digit in nums]) == 1)\n",
        "\n",
        "  # Constraint 2\n",
        "  for digit in nums:\n",
        "    for col in nums:\n",
        "      problem += (pulp.lpSum([X[(digit, row, col)] for row in nums]) == 1)\n",
        "\n",
        "  # Constraint 3\n",
        "  for digit in nums:\n",
        "    for row in nums:\n",
        "      problem += (pulp.lpSum([X[(digit, row, col)] for col in nums]) == 1)\n",
        "\n",
        "  # Constraint 4 \n",
        "  for digit in nums:\n",
        "    for row3 in nums2:\n",
        "      for col3 in nums2:\n",
        "        problem += (pulp.lpSum([X[(digit, row, col)] for row in row3 for col in col3]) == 1)\n",
        "  \n",
        "  # Constraint 5\n",
        "  for row in range(9):\n",
        "    for col in range(9):\n",
        "      if puzzle[row][col] != 0:\n",
        "        problem += (X[(puzzle[row][col], row + 1, col + 1)] == 1)\n",
        "\n",
        "  # Solve and Output\n",
        "  problem.solve()\n",
        "  if problem.solve() == 1:\n",
        "    sudoku = [digit for row in nums for col in nums for digit in nums  if X[(digit, row, col)].varValue == 1] #list comprehension to store the solution as a 1D array\n",
        "    output = [sudoku[9 * index: 9 * (index + 1)] for index in range(9)] #convert 1D array to 2D array\n",
        "  else:\n",
        "    output = 0\n",
        "  return output"
      ],
      "execution_count": 53,
      "outputs": []
    },
    {
      "cell_type": "markdown",
      "metadata": {
        "id": "GOf6Z6mw0t-k",
        "colab_type": "text"
      },
      "source": [
        "**Testing and Accuracy:**  \n",
        "We'll now try some test cases below to check that the solver is working as intended:  \n",
        "Test Case 1: Should produce a valid puzzle with unique solution  \n",
        "Test Case 2: Should produce a valid puzzle with unique solution  \n",
        "Test Case 3: Assertion error should be thrown since the same value occurs in a row  \n",
        "Test Case 4: Assertion error should be thrown since the same value occurs in a column  \n",
        "Test Case 5: Assertion error should be thrown since the same value occurs in a 3x3 block   \n",
        "Test Case 6: Assertion error should be thrown since constraints 2 - 4 are all violated \n"
      ]
    },
    {
      "cell_type": "code",
      "metadata": {
        "id": "NUzmbb000y56",
        "colab_type": "code",
        "colab": {
          "base_uri": "https://localhost:8080/",
          "height": 151
        },
        "outputId": "d6b023cf-fffa-49a9-a2dc-5ac03f86f7ec"
      },
      "source": [
        "#Test Case 1: Valid Puzzle 1\n",
        "input1 = [[0, 0, 0, 7, 6, 1, 0, 0, 4], \\\n",
        "          [0, 0, 0, 0, 0, 0, 7, 8, 0], \\\n",
        "          [0, 9, 0, 0, 0, 8, 0, 0, 5], \\\n",
        "          [3, 0, 9, 2, 0, 6, 5, 0, 8], \\\n",
        "          [6, 0, 8, 4, 0, 7, 3, 0, 2], \\\n",
        "          [4, 0, 2, 8, 0, 9, 6, 0, 7], \\\n",
        "          [8, 0, 0, 9, 0, 0, 0, 3, 0], \\\n",
        "          [0, 4, 1, 0, 0, 0, 0, 0, 0], \\\n",
        "          [9, 0, 0, 1, 8, 4, 0, 0, 0]] \n",
        "solution1 = [[5, 8, 3, 7, 6, 1, 9, 2, 4], \\\n",
        "             [1, 6, 4, 5, 9, 2, 7, 8, 3], \\\n",
        "             [2, 9, 7, 3, 4, 8, 1, 6, 5], \\\n",
        "             [3, 7, 9, 2, 1, 6, 5, 4, 8], \\\n",
        "             [6, 1, 8, 4, 5, 7, 3, 9, 2], \\\n",
        "             [4, 5, 2, 8, 3, 9, 6, 1, 7], \\\n",
        "             [8, 2, 6, 9, 7, 5, 4, 3, 1], \\\n",
        "             [7, 4, 1, 6, 2, 3, 8, 5, 9], \\\n",
        "             [9, 3, 5, 1, 8, 4, 2, 7, 6]]\n",
        "\n",
        "#Test Case 2: Valid Puzzle 2\n",
        "input2 =  [[0, 8, 9, 5, 1, 0, 7, 6, 0], \\\n",
        "           [4, 0, 0, 0, 6, 0, 9, 5, 0], \\\n",
        "           [0, 0, 0, 0, 4, 0, 0, 0, 0], \\\n",
        "           [6, 2, 3, 0, 5, 9, 0, 0, 0], \\\n",
        "           [0, 0, 5, 0, 0, 0, 3, 0, 0], \\\n",
        "           [0, 0, 0, 2, 7, 0, 6, 9, 5], \\\n",
        "           [0, 0, 0, 0, 3, 0, 0, 0, 0], \\\n",
        "           [0, 4, 8, 0, 2, 0, 0, 0, 6], \\\n",
        "           [0, 3, 2, 0, 9, 4, 1, 7, 0]] \n",
        "solution2 = [[3, 8, 9, 5, 1, 2, 7, 6, 4], \\\n",
        "             [4, 7, 1, 3, 6, 8, 9, 5, 2], \\\n",
        "             [2, 5, 6, 9, 4, 7, 8, 1, 3], \\\n",
        "             [6, 2, 3, 1, 5, 9, 4, 8, 7], \\\n",
        "             [7, 9, 5, 4, 8, 6, 3, 2, 1], \\\n",
        "             [8, 1, 4, 2, 7, 3, 6, 9, 5], \\\n",
        "             [1, 6, 7, 8, 3, 5, 2, 4, 9], \\\n",
        "             [9, 4, 8, 7, 2, 1, 5, 3, 6], \\\n",
        "             [5, 3, 2, 6, 9, 4, 1, 7, 8]]\n",
        "\n",
        "#Test Case 3: Violate Constraint 2\n",
        "input3 = [[2, 2, 2, 2, 2, 2, 2, 2, 2], \\\n",
        "          [0, 0, 0, 0, 0, 0, 0, 0, 0], \\\n",
        "          [0, 0, 0, 0, 0, 0, 0, 0, 0], \\\n",
        "          [0, 0, 0, 0, 0, 0, 0, 0, 0], \\\n",
        "          [0, 0, 0, 0, 0, 0, 0, 0, 0], \\\n",
        "          [0, 0, 0, 0, 0, 0, 0, 0, 0], \\\n",
        "          [0, 0, 0, 0, 0, 0, 0, 0, 0], \\\n",
        "          [0, 0, 0, 0, 0, 0, 0, 0, 0], \\\n",
        "          [0, 0, 0, 0, 0, 0, 0, 0, 0]] \n",
        "solution3 = 0\n",
        "\n",
        "#Test Case 4: Violate Constraint 3\n",
        "input4 = [[3, 0, 0, 0, 0, 0, 0, 0, 0], \\\n",
        "          [3, 0, 0, 0, 0, 0, 0, 0, 0], \\\n",
        "          [3, 0, 0, 0, 0, 0, 0, 0, 0], \\\n",
        "          [3, 0, 0, 0, 0, 0, 0, 0, 0], \\\n",
        "          [3, 0, 0, 0, 0, 0, 0, 0, 0], \\\n",
        "          [3, 0, 0, 0, 0, 0, 0, 0, 0], \\\n",
        "          [3, 0, 0, 0, 0, 0, 0, 0, 0], \\\n",
        "          [3, 0, 0, 0, 0, 0, 0, 0, 0], \\\n",
        "          [3, 0, 0, 0, 0, 0, 0, 0, 0]] \n",
        "solution4 = 0\n",
        "\n",
        "#Test Case 5: Violate Constraint 4\n",
        "input5 = [[4, 4, 4, 0, 0, 0, 0, 0, 0], \\\n",
        "          [4, 4, 4, 0, 0, 0, 0, 0, 0], \\\n",
        "          [4, 4, 4, 0, 0, 0, 0, 0, 0], \\\n",
        "          [0, 0, 0, 0, 0, 0, 0, 0, 0], \\\n",
        "          [0, 0, 0, 0, 0, 0, 0, 0, 0], \\\n",
        "          [0, 0, 0, 0, 0, 0, 0, 0, 0], \\\n",
        "          [0, 0, 0, 0, 0, 0, 0, 0, 0], \\\n",
        "          [0, 0, 0, 0, 0, 0, 0, 0, 0], \\\n",
        "          [0, 0, 0, 0, 0, 0, 0, 0, 0]] \n",
        "solution5 = 0\n",
        "\n",
        "#Test Case 6: Violate Constraint 2, 3, and 4\n",
        "input6 = [[5, 5, 5, 5, 5, 5, 5, 5, 5], \\\n",
        "          [5, 5, 5, 0, 0, 0, 0, 0, 0], \\\n",
        "          [5, 5, 5, 0, 0, 0, 0, 0, 0], \\\n",
        "          [5, 0, 0, 0, 0, 0, 0, 0, 0], \\\n",
        "          [5, 0, 0, 0, 0, 0, 0, 0, 0], \\\n",
        "          [5, 0, 0, 0, 0, 0, 0, 0, 0], \\\n",
        "          [5, 0, 0, 0, 0, 0, 0, 0, 0], \\\n",
        "          [5, 0, 0, 0, 0, 0, 0, 0, 0], \\\n",
        "          [5, 0, 0, 0, 0, 0, 0, 0, 0]] \n",
        "solution6 = 0\n",
        "\n",
        "#Test Case 1: Valid Puzzle 1\n",
        "assert SudokuSolver(input1) == solution1\n",
        "print(\"Test Case 1 Passed: Valid Puzzle 1\")\n",
        "\n",
        "#Test Case 2: Valid Puzzle 2\n",
        "assert SudokuSolver(input2) == solution2\n",
        "print(\"Test Case 2 Passed: Valid Puzzle 2\")\n",
        "\n",
        "#Test Case 3: Violate Constraint 2\n",
        "assert SudokuSolver(input3) == solution3\n",
        "print(\"Test Case 3 Passed: Violate Constraint 2\")\n",
        "\n",
        "#Test Case 4: Violate Constraint 3\n",
        "assert SudokuSolver(input4) == solution4\n",
        "print(\"Test Case 4 Passed: Violate Constraint 3\")\n",
        "\n",
        "#Test Case 5: Violate Constraint 4\n",
        "assert SudokuSolver(input5) == solution5\n",
        "print(\"Test Case 5 Passed: Violate Constraint 4\")\n",
        "\n",
        "#Test Case 6: Violate Constraint 2, 3, and 4  \n",
        "assert SudokuSolver(input6) == solution6\n",
        "print(\"Test Case 6 Passed: Violate Constraint 2, 3, and 4\")\n",
        "\n",
        "print(\"\\n PASSED ALL TEST CASES!\")"
      ],
      "execution_count": 56,
      "outputs": [
        {
          "output_type": "stream",
          "text": [
            "Test Case 1 Passed: Valid Puzzle 1\n",
            "Test Case 2 Passed: Valid Puzzle 2\n",
            "Test Case 3 Passed: Violate Constraint 2\n",
            "Test Case 4 Passed: Violate Constraint 3\n",
            "Test Case 5 Passed: Violate Constraint 4\n",
            "Test Case 6 Passed: Violate Constraint 2, 3, and 4\n",
            "\n",
            " PASSED ALL TEST CASES!\n"
          ],
          "name": "stdout"
        }
      ]
    },
    {
      "cell_type": "markdown",
      "metadata": {
        "id": "ShGj7X2y66w6",
        "colab_type": "text"
      },
      "source": [
        "**Run Times**  \n",
        "When each of the constraints were previously stated, you may have noticed that 2-3 for loops were utilized for each constraint.  \n",
        "This may have cut down the number of manually written constraints from 324 linear equations to 4 generalized conditions, but...  \n",
        "the current setup could potentially strangle run time at scale (for sudoku solvers in number bases higher than 10) since each constraint would run in O(n2) or O(n3) time  \n",
        "\n",
        "So just to check the run time of our puzzles for standard base 10 sudoku puzzles, we'll use python's timeit feature below on our first two test cases\n",
        "\n",
        "\n",
        "\n"
      ]
    },
    {
      "cell_type": "code",
      "metadata": {
        "id": "PprttQBI60o_",
        "colab_type": "code",
        "colab": {
          "base_uri": "https://localhost:8080/",
          "height": 50
        },
        "outputId": "57f0c698-7896-4628-ff70-2d87b49b5419"
      },
      "source": [
        "%timeit SudokuSolver(input1)\n",
        "%timeit SudokuSolver(input2)"
      ],
      "execution_count": 57,
      "outputs": [
        {
          "output_type": "stream",
          "text": [
            "10 loops, best of 3: 100 ms per loop\n",
            "10 loops, best of 3: 96.3 ms per loop\n"
          ],
          "name": "stdout"
        }
      ]
    },
    {
      "cell_type": "markdown",
      "metadata": {
        "id": "_ovXvS1dgyy2",
        "colab_type": "text"
      },
      "source": [
        "**Result**  \n",
        "Based on these initial inputs, our solver runs correctly in approximately 0.1 seconds.  \n",
        "Hope you've enjoyed this tutorial!"
      ]
    }
  ]
}